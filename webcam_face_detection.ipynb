{
 "cells": [
  {
   "cell_type": "code",
   "execution_count": 1,
   "id": "df1ec329",
   "metadata": {},
   "outputs": [],
   "source": [
    "import cv2"
   ]
  },
  {
   "cell_type": "code",
   "execution_count": 2,
   "id": "7c3893e4",
   "metadata": {},
   "outputs": [],
   "source": [
    "trained_data= cv2.CascadeClassifier(cv2.data.haarcascades + 'haarcascade_frontalface_default.xml')"
   ]
  },
  {
   "cell_type": "code",
   "execution_count": 3,
   "id": "743f1cc3",
   "metadata": {},
   "outputs": [],
   "source": [
    "web=cv2.VideoCapture(0)\n",
    "\n",
    "while web.isOpened():\n",
    "    flags,frame=web.read()\n",
    "    \n",
    "    \n",
    "    bw_frame=cv2.cvtColor(frame,cv2.COLOR_BGR2GRAY)\n",
    "\n",
    "    face_coord=trained_data.detectMultiScale(bw_frame)\n",
    "\n",
    "    for(x,y,w,h) in face_coord:\n",
    "        cv2.rectangle(frame,(x,y),(x+w,y+h),(0,255,0),2)\n",
    "    \n",
    "    cv2.imshow('window',frame)\n",
    "\n",
    "    key=cv2.waitKey(10)\n",
    "\n",
    "    if key==81 or key==113:\n",
    "        break\n",
    "        \n",
    "web.release()\n",
    "cv2.destroyAllWindows()"
   ]
  },
  {
   "cell_type": "code",
   "execution_count": null,
   "id": "6f8fe421",
   "metadata": {},
   "outputs": [],
   "source": []
  },
  {
   "cell_type": "code",
   "execution_count": null,
   "id": "52b2e578",
   "metadata": {},
   "outputs": [],
   "source": []
  }
 ],
 "metadata": {
  "kernelspec": {
   "display_name": "Python 3 (ipykernel)",
   "language": "python",
   "name": "python3"
  },
  "language_info": {
   "codemirror_mode": {
    "name": "ipython",
    "version": 3
   },
   "file_extension": ".py",
   "mimetype": "text/x-python",
   "name": "python",
   "nbconvert_exporter": "python",
   "pygments_lexer": "ipython3",
   "version": "3.10.5"
  }
 },
 "nbformat": 4,
 "nbformat_minor": 5
}
